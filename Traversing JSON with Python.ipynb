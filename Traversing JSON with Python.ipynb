{
 "cells": [
  {
   "cell_type": "markdown",
   "id": "00b58d95",
   "metadata": {},
   "source": [
    "# What is the top level of the JSON data?\n"
   ]
  },
  {
   "cell_type": "code",
   "execution_count": 12,
   "id": "2907e966",
   "metadata": {},
   "outputs": [
    {
     "data": {
      "text/plain": [
       "dict"
      ]
     },
     "execution_count": 12,
     "metadata": {},
     "output_type": "execute_result"
    }
   ],
   "source": [
    "# Open the jsonfile and display the first level of keys\n",
    "# open API results WITH json module\n",
    "import json\n",
    "with open('example_yelp_results.json') as f:   #adjust for your path\n",
    "    json_file = json.load(f)\n",
    "    \n",
    "## What type is top-level of json?\n",
    "type(json_file)"
   ]
  },
  {
   "cell_type": "code",
   "execution_count": 13,
   "id": "cd4389b7",
   "metadata": {},
   "outputs": [
    {
     "data": {
      "text/plain": [
       "dict_keys(['businesses', 'total', 'region'])"
      ]
     },
     "execution_count": 13,
     "metadata": {},
     "output_type": "execute_result"
    }
   ],
   "source": [
    "# what are the keys?\n",
    "json_file.keys()"
   ]
  },
  {
   "cell_type": "markdown",
   "id": "1339be6a",
   "metadata": {},
   "source": [
    "# What is stored in the second level?\n",
    "We have three keys to explore.  We will start by exploring the region."
   ]
  },
  {
   "cell_type": "markdown",
   "id": "c27d6d38",
   "metadata": {},
   "source": [
    "## 'region'\n"
   ]
  },
  {
   "cell_type": "code",
   "execution_count": 11,
   "id": "e16e0964",
   "metadata": {},
   "outputs": [
    {
     "data": {
      "text/plain": [
       "{'center': {'longitude': -76.607666015625, 'latitude': 39.29617825404647}}"
      ]
     },
     "execution_count": 11,
     "metadata": {},
     "output_type": "execute_result"
    }
   ],
   "source": [
    "json_file['region']"
   ]
  },
  {
   "cell_type": "code",
   "execution_count": 14,
   "id": "3058cc9c",
   "metadata": {},
   "outputs": [
    {
     "data": {
      "text/plain": [
       "dict"
      ]
     },
     "execution_count": 14,
     "metadata": {},
     "output_type": "execute_result"
    }
   ],
   "source": [
    "# what type is region?\n",
    "type(json_file['region'])"
   ]
  },
  {
   "cell_type": "code",
   "execution_count": 15,
   "id": "b04ab6c4",
   "metadata": {},
   "outputs": [
    {
     "data": {
      "text/plain": [
       "dict_keys(['center'])"
      ]
     },
     "execution_count": 15,
     "metadata": {},
     "output_type": "execute_result"
    }
   ],
   "source": [
    "# what keys are in region?\n",
    "json_file['region'].keys()"
   ]
  },
  {
   "cell_type": "code",
   "execution_count": 16,
   "id": "35b54062",
   "metadata": {},
   "outputs": [
    {
     "data": {
      "text/plain": [
       "dict"
      ]
     },
     "execution_count": 16,
     "metadata": {},
     "output_type": "execute_result"
    }
   ],
   "source": [
    "# what type is center?\n",
    "type(json_file['region']['center'])"
   ]
  },
  {
   "cell_type": "code",
   "execution_count": 17,
   "id": "baf09be0",
   "metadata": {},
   "outputs": [
    {
     "data": {
      "text/plain": [
       "dict_keys(['longitude', 'latitude'])"
      ]
     },
     "execution_count": 17,
     "metadata": {},
     "output_type": "execute_result"
    }
   ],
   "source": [
    "# what are the keys in center?\n",
    "json_file['region']['center'].keys()"
   ]
  },
  {
   "cell_type": "code",
   "execution_count": 18,
   "id": "40351fef",
   "metadata": {},
   "outputs": [
    {
     "data": {
      "text/plain": [
       "{'longitude': -76.607666015625, 'latitude': 39.29617825404647}"
      ]
     },
     "execution_count": 18,
     "metadata": {},
     "output_type": "execute_result"
    }
   ],
   "source": [
    "# Visualize the whole center dict, since lat and long are likely single values\n",
    "json_file['region']['center']"
   ]
  },
  {
   "cell_type": "markdown",
   "id": "993b6e07",
   "metadata": {},
   "source": [
    "It looks like we have the coordinates for the center of the region that Yelp searched through.\n",
    "\n"
   ]
  },
  {
   "cell_type": "markdown",
   "id": "1be14cd0",
   "metadata": {},
   "source": [
    "## 'total'"
   ]
  },
  {
   "cell_type": "code",
   "execution_count": 20,
   "id": "4f92d9a6",
   "metadata": {},
   "outputs": [
    {
     "data": {
      "text/plain": [
       "435"
      ]
     },
     "execution_count": 20,
     "metadata": {},
     "output_type": "execute_result"
    }
   ],
   "source": [
    "json_file['total']"
   ]
  },
  {
   "cell_type": "code",
   "execution_count": 21,
   "id": "784e8b3b",
   "metadata": {},
   "outputs": [
    {
     "data": {
      "text/plain": [
       "int"
      ]
     },
     "execution_count": 21,
     "metadata": {},
     "output_type": "execute_result"
    }
   ],
   "source": [
    "# what is stored under the \"total\" key?\n",
    "type(json_file['total'])"
   ]
  },
  {
   "cell_type": "code",
   "execution_count": 23,
   "id": "1c5efa56",
   "metadata": {},
   "outputs": [
    {
     "data": {
      "text/plain": [
       "435"
      ]
     },
     "execution_count": 23,
     "metadata": {},
     "output_type": "execute_result"
    }
   ],
   "source": [
    "## what is the value?\n",
    "json_file['total']"
   ]
  },
  {
   "cell_type": "markdown",
   "id": "e7c48f97",
   "metadata": {},
   "source": [
    "It looks like there were 435 total results for this Yelp search.\n",
    "\n"
   ]
  },
  {
   "cell_type": "markdown",
   "id": "8bcde49b",
   "metadata": {},
   "source": [
    "## 'businesses'\n",
    "And finally, we will explore \"businesses\"\n",
    "\n"
   ]
  },
  {
   "cell_type": "code",
   "execution_count": 24,
   "id": "c4b4a7d4",
   "metadata": {},
   "outputs": [
    {
     "data": {
      "text/plain": [
       "[{'id': 'D9A33FM394q99o4QtK5YwA',\n",
       "  'alias': 'faidleys-seafood-baltimore-3',\n",
       "  'name': 'Faidleys Seafood',\n",
       "  'image_url': 'https://s3-media3.fl.yelpcdn.com/bphoto/OTjVDCVS7pGopH6GZcfjBA/o.jpg',\n",
       "  'is_closed': False,\n",
       "  'url': 'https://www.yelp.com/biz/faidleys-seafood-baltimore-3?adjust_creative=KJtcufKUS887p24u6rjVIQ&utm_campaign=yelp_api_v3&utm_medium=api_v3_business_search&utm_source=KJtcufKUS887p24u6rjVIQ',\n",
       "  'review_count': 1184,\n",
       "  'categories': [{'alias': 'seafood', 'title': 'Seafood'},\n",
       "   {'alias': 'beerbar', 'title': 'Beer Bar'}],\n",
       "  'rating': 4.0,\n",
       "  'coordinates': {'latitude': 39.291696, 'longitude': -76.62224},\n",
       "  'transactions': ['delivery'],\n",
       "  'price': '$$',\n",
       "  'location': {'address1': '203 N Paca St',\n",
       "   'address2': '',\n",
       "   'address3': '',\n",
       "   'city': 'Baltimore',\n",
       "   'zip_code': '21201',\n",
       "   'country': 'US',\n",
       "   'state': 'MD',\n",
       "   'display_address': ['203 N Paca St', 'Baltimore, MD 21201']},\n",
       "  'phone': '+14107274898',\n",
       "  'display_phone': '(410) 727-4898',\n",
       "  'distance': 1349.560720156645},\n",
       " {'id': 'u65W69AhbjUlvJJBkEhGNQ',\n",
       "  'alias': 'miss-shirleys-cafe-baltimore-9',\n",
       "  'name': \"Miss Shirley's Cafe\",\n",
       "  'image_url': 'https://s3-media4.fl.yelpcdn.com/bphoto/9FsOyVsg-MkdHlNR10xnqA/o.jpg',\n",
       "  'is_closed': False,\n",
       "  'url': 'https://www.yelp.com/biz/miss-shirleys-cafe-baltimore-9?adjust_creative=KJtcufKUS887p24u6rjVIQ&utm_campaign=yelp_api_v3&utm_medium=api_v3_business_search&utm_source=KJtcufKUS887p24u6rjVIQ',\n",
       "  'review_count': 2919,\n",
       "  'categories': [{'alias': 'breakfast_brunch', 'title': 'Breakfast & Brunch'},\n",
       "   {'alias': 'tradamerican', 'title': 'American (Traditional)'},\n",
       "   {'alias': 'cafes', 'title': 'Cafes'}],\n",
       "  'rating': 4.0,\n",
       "  'coordinates': {'latitude': 39.2870995, 'longitude': -76.6053657},\n",
       "  'transactions': ['delivery', 'pickup'],\n",
       "  'price': '$$',\n",
       "  'location': {'address1': '750 E Pratt St',\n",
       "   'address2': '',\n",
       "   'address3': '',\n",
       "   'city': 'Baltimore',\n",
       "   'zip_code': '21202',\n",
       "   'country': 'US',\n",
       "   'state': 'MD',\n",
       "   'display_address': ['750 E Pratt St', 'Baltimore, MD 21202']},\n",
       "  'phone': '+14105285373',\n",
       "  'display_phone': '(410) 528-5373',\n",
       "  'distance': 1028.7364679770458},\n",
       " {'id': 'ieS_5zqxDHcWMCm8BKUYbg',\n",
       "  'alias': 'thames-street-oyster-house-baltimore',\n",
       "  'name': 'Thames Street Oyster House',\n",
       "  'image_url': 'https://s3-media1.fl.yelpcdn.com/bphoto/9hGjo5-sU6Tn7cXdeYalPg/o.jpg',\n",
       "  'is_closed': False,\n",
       "  'url': 'https://www.yelp.com/biz/thames-street-oyster-house-baltimore?adjust_creative=KJtcufKUS887p24u6rjVIQ&utm_campaign=yelp_api_v3&utm_medium=api_v3_business_search&utm_source=KJtcufKUS887p24u6rjVIQ',\n",
       "  'review_count': 2729,\n",
       "  'categories': [{'alias': 'seafood', 'title': 'Seafood'},\n",
       "   {'alias': 'raw_food', 'title': 'Live/Raw Food'}],\n",
       "  'rating': 4.5,\n",
       "  'coordinates': {'latitude': 39.28214, 'longitude': -76.59162},\n",
       "  'transactions': ['delivery'],\n",
       "  'price': '$$$',\n",
       "  'location': {'address1': '1728 Thames St',\n",
       "   'address2': '',\n",
       "   'address3': '',\n",
       "   'city': 'Baltimore',\n",
       "   'zip_code': '21231',\n",
       "   'country': 'US',\n",
       "   'state': 'MD',\n",
       "   'display_address': ['1728 Thames St', 'Baltimore, MD 21231']},\n",
       "  'phone': '+14434497726',\n",
       "  'display_phone': '(443) 449-7726',\n",
       "  'distance': 2090.7127924871847},\n",
       " {'id': '6am8TZAFnvND52MOz-Yctg',\n",
       "  'alias': 'mamas-on-the-half-shell-baltimore',\n",
       "  'name': \"Mama's On The Half Shell\",\n",
       "  'image_url': 'https://s3-media2.fl.yelpcdn.com/bphoto/HWY8OFLdgmlZt-5Q6ny4ig/o.jpg',\n",
       "  'is_closed': False,\n",
       "  'url': 'https://www.yelp.com/biz/mamas-on-the-half-shell-baltimore?adjust_creative=KJtcufKUS887p24u6rjVIQ&utm_campaign=yelp_api_v3&utm_medium=api_v3_business_search&utm_source=KJtcufKUS887p24u6rjVIQ',\n",
       "  'review_count': 1279,\n",
       "  'categories': [{'alias': 'bars', 'title': 'Bars'},\n",
       "   {'alias': 'seafood', 'title': 'Seafood'},\n",
       "   {'alias': 'breakfast_brunch', 'title': 'Breakfast & Brunch'}],\n",
       "  'rating': 4.0,\n",
       "  'coordinates': {'latitude': 39.27986, 'longitude': -76.5752399},\n",
       "  'transactions': ['delivery', 'pickup'],\n",
       "  'price': '$$',\n",
       "  'location': {'address1': '2901 Odonnell St',\n",
       "   'address2': '',\n",
       "   'address3': '',\n",
       "   'city': 'Baltimore',\n",
       "   'zip_code': '21224',\n",
       "   'country': 'US',\n",
       "   'state': 'MD',\n",
       "   'display_address': ['2901 Odonnell St', 'Baltimore, MD 21224']},\n",
       "  'phone': '+14102763160',\n",
       "  'display_phone': '(410) 276-3160',\n",
       "  'distance': 3328.8257980117924},\n",
       " {'id': 'ISn7WyGQaFpsVSRSh0NSqg',\n",
       "  'alias': 'sal-and-sons-baltimore',\n",
       "  'name': 'Sal and Sons',\n",
       "  'image_url': 'https://s3-media3.fl.yelpcdn.com/bphoto/LmVL4jMy5GwApoCk2sTlTQ/o.jpg',\n",
       "  'is_closed': False,\n",
       "  'url': 'https://www.yelp.com/biz/sal-and-sons-baltimore?adjust_creative=KJtcufKUS887p24u6rjVIQ&utm_campaign=yelp_api_v3&utm_medium=api_v3_business_search&utm_source=KJtcufKUS887p24u6rjVIQ',\n",
       "  'review_count': 153,\n",
       "  'categories': [{'alias': 'seafood', 'title': 'Seafood'},\n",
       "   {'alias': 'seafoodmarkets', 'title': 'Seafood Markets'}],\n",
       "  'rating': 4.5,\n",
       "  'coordinates': {'latitude': 39.284, 'longitude': -76.59337},\n",
       "  'transactions': ['delivery'],\n",
       "  'price': '$',\n",
       "  'location': {'address1': '1640 Aliceanna St',\n",
       "   'address2': '',\n",
       "   'address3': 'Broadway Market',\n",
       "   'city': 'Baltimore',\n",
       "   'zip_code': '21231',\n",
       "   'country': 'US',\n",
       "   'state': 'MD',\n",
       "   'display_address': ['1640 Aliceanna St',\n",
       "    'Broadway Market',\n",
       "    'Baltimore, MD 21231']},\n",
       "  'phone': '+14106751466',\n",
       "  'display_phone': '(410) 675-1466',\n",
       "  'distance': 1817.406978089581},\n",
       " {'id': 'UplfpgvI5BfuDjtolDrmsA',\n",
       "  'alias': 'blackwall-hitch-baltimore',\n",
       "  'name': 'Blackwall Hitch',\n",
       "  'image_url': 'https://s3-media3.fl.yelpcdn.com/bphoto/YoB4qYhyi-MM3pz3AxCiKA/o.jpg',\n",
       "  'is_closed': False,\n",
       "  'url': 'https://www.yelp.com/biz/blackwall-hitch-baltimore?adjust_creative=KJtcufKUS887p24u6rjVIQ&utm_campaign=yelp_api_v3&utm_medium=api_v3_business_search&utm_source=KJtcufKUS887p24u6rjVIQ',\n",
       "  'review_count': 510,\n",
       "  'categories': [{'alias': 'newamerican', 'title': 'American (New)'},\n",
       "   {'alias': 'seafood', 'title': 'Seafood'},\n",
       "   {'alias': 'cocktailbars', 'title': 'Cocktail Bars'}],\n",
       "  'rating': 4.0,\n",
       "  'coordinates': {'latitude': 39.2871515492791,\n",
       "   'longitude': -76.60605301975444},\n",
       "  'transactions': [],\n",
       "  'price': '$$',\n",
       "  'location': {'address1': '700 E Pratt St',\n",
       "   'address2': None,\n",
       "   'address3': '',\n",
       "   'city': 'Baltimore',\n",
       "   'zip_code': '21202',\n",
       "   'country': 'US',\n",
       "   'state': 'MD',\n",
       "   'display_address': ['700 E Pratt St', 'Baltimore, MD 21202']},\n",
       "  'phone': '+14437597176',\n",
       "  'display_phone': '(443) 759-7176',\n",
       "  'distance': 1013.2755773246936},\n",
       " {'id': 'p_XPpHiZbdOccx2jFUgZJA',\n",
       "  'alias': 'the-local-oyster-baltimore',\n",
       "  'name': 'The Local Oyster',\n",
       "  'image_url': 'https://s3-media3.fl.yelpcdn.com/bphoto/u_33aye99FX8ZM_DtIRDng/o.jpg',\n",
       "  'is_closed': False,\n",
       "  'url': 'https://www.yelp.com/biz/the-local-oyster-baltimore?adjust_creative=KJtcufKUS887p24u6rjVIQ&utm_campaign=yelp_api_v3&utm_medium=api_v3_business_search&utm_source=KJtcufKUS887p24u6rjVIQ',\n",
       "  'review_count': 217,\n",
       "  'categories': [{'alias': 'seafood', 'title': 'Seafood'},\n",
       "   {'alias': 'wine_bars', 'title': 'Wine Bars'},\n",
       "   {'alias': 'beerbar', 'title': 'Beer Bar'}],\n",
       "  'rating': 4.0,\n",
       "  'coordinates': {'latitude': 39.2958288, 'longitude': -76.6188912},\n",
       "  'transactions': ['delivery'],\n",
       "  'price': '$$',\n",
       "  'location': {'address1': '520 Park Ave',\n",
       "   'address2': None,\n",
       "   'address3': '',\n",
       "   'city': 'Baltimore',\n",
       "   'zip_code': '21211',\n",
       "   'country': 'US',\n",
       "   'state': 'MD',\n",
       "   'display_address': ['520 Park Ave', 'Baltimore, MD 21211']},\n",
       "  'phone': '+18447482537',\n",
       "  'display_phone': '(844) 748-2537',\n",
       "  'distance': 966.7299411758902},\n",
       " {'id': 'fdo4pqfSYjQyW5_-rElfew',\n",
       "  'alias': 'faidley-s-seafood-baltimore-2',\n",
       "  'name': 'Faidley’s Seafood',\n",
       "  'image_url': 'https://s3-media4.fl.yelpcdn.com/bphoto/7aCi2UOBeoKp8D20h7lKUA/o.jpg',\n",
       "  'is_closed': False,\n",
       "  'url': 'https://www.yelp.com/biz/faidley-s-seafood-baltimore-2?adjust_creative=KJtcufKUS887p24u6rjVIQ&utm_campaign=yelp_api_v3&utm_medium=api_v3_business_search&utm_source=KJtcufKUS887p24u6rjVIQ',\n",
       "  'review_count': 39,\n",
       "  'categories': [{'alias': 'seafoodmarkets', 'title': 'Seafood Markets'}],\n",
       "  'rating': 4.0,\n",
       "  'coordinates': {'latitude': 39.2915897, 'longitude': -76.6222079},\n",
       "  'transactions': [],\n",
       "  'price': '$',\n",
       "  'location': {'address1': '203 N Paca St',\n",
       "   'address2': '',\n",
       "   'address3': '',\n",
       "   'city': 'Baltimore',\n",
       "   'zip_code': '21201',\n",
       "   'country': 'US',\n",
       "   'state': 'MD',\n",
       "   'display_address': ['203 N Paca St', 'Baltimore, MD 21201']},\n",
       "  'phone': '+14107526461',\n",
       "  'display_phone': '(410) 752-6461',\n",
       "  'distance': 1342.5131042329115},\n",
       " {'id': 'AjMBJPjnaGIVhBd08gpjvA',\n",
       "  'alias': 'the-water-street-tavern-and-key-west-patio-bar-baltimore',\n",
       "  'name': 'The Water Street Tavern & Key West Patio Bar',\n",
       "  'image_url': 'https://s3-media3.fl.yelpcdn.com/bphoto/dPOyNQ3m45FGAfv9qhFprw/o.jpg',\n",
       "  'is_closed': False,\n",
       "  'url': 'https://www.yelp.com/biz/the-water-street-tavern-and-key-west-patio-bar-baltimore?adjust_creative=KJtcufKUS887p24u6rjVIQ&utm_campaign=yelp_api_v3&utm_medium=api_v3_business_search&utm_source=KJtcufKUS887p24u6rjVIQ',\n",
       "  'review_count': 263,\n",
       "  'categories': [{'alias': 'tradamerican', 'title': 'American (Traditional)'},\n",
       "   {'alias': 'bars', 'title': 'Bars'},\n",
       "   {'alias': 'seafood', 'title': 'Seafood'}],\n",
       "  'rating': 4.0,\n",
       "  'coordinates': {'latitude': 39.288553, 'longitude': -76.613303},\n",
       "  'transactions': ['delivery'],\n",
       "  'price': '$$',\n",
       "  'location': {'address1': '102 Water St',\n",
       "   'address2': '',\n",
       "   'address3': '',\n",
       "   'city': 'Baltimore',\n",
       "   'zip_code': '21202',\n",
       "   'country': 'US',\n",
       "   'state': 'MD',\n",
       "   'display_address': ['102 Water St', 'Baltimore, MD 21202']},\n",
       "  'phone': '+14106059495',\n",
       "  'display_phone': '(410) 605-9495',\n",
       "  'distance': 976.8498942690466},\n",
       " {'id': '1C8QSqc-erkkyAUywh501A',\n",
       "  'alias': 'angies-seafood-baltimore',\n",
       "  'name': \"Angie's Seafood\",\n",
       "  'image_url': 'https://s3-media1.fl.yelpcdn.com/bphoto/pqkYsm6ONXVkSlozotFWKA/o.jpg',\n",
       "  'is_closed': False,\n",
       "  'url': 'https://www.yelp.com/biz/angies-seafood-baltimore?adjust_creative=KJtcufKUS887p24u6rjVIQ&utm_campaign=yelp_api_v3&utm_medium=api_v3_business_search&utm_source=KJtcufKUS887p24u6rjVIQ',\n",
       "  'review_count': 672,\n",
       "  'categories': [{'alias': 'seafood', 'title': 'Seafood'},\n",
       "   {'alias': 'soup', 'title': 'Soup'},\n",
       "   {'alias': 'salad', 'title': 'Salad'}],\n",
       "  'rating': 4.0,\n",
       "  'coordinates': {'latitude': 39.289207148922245,\n",
       "   'longitude': -76.5927557431986},\n",
       "  'transactions': ['delivery', 'pickup'],\n",
       "  'price': '$$',\n",
       "  'location': {'address1': '1727 E Pratt St',\n",
       "   'address2': None,\n",
       "   'address3': '',\n",
       "   'city': 'Baltimore',\n",
       "   'zip_code': '21231',\n",
       "   'country': 'US',\n",
       "   'state': 'MD',\n",
       "   'display_address': ['1727 E Pratt St', 'Baltimore, MD 21231']},\n",
       "  'phone': '+14103420917',\n",
       "  'display_phone': '(410) 342-0917',\n",
       "  'distance': 1499.0834038738199},\n",
       " {'id': 'BhnCaqbJtWrC36eVxlewSw',\n",
       "  'alias': 'l-p-steamers-baltimore',\n",
       "  'name': 'L P Steamers',\n",
       "  'image_url': 'https://s3-media3.fl.yelpcdn.com/bphoto/54nSR-_hLFhvL7Wms3uVFA/o.jpg',\n",
       "  'is_closed': False,\n",
       "  'url': 'https://www.yelp.com/biz/l-p-steamers-baltimore?adjust_creative=KJtcufKUS887p24u6rjVIQ&utm_campaign=yelp_api_v3&utm_medium=api_v3_business_search&utm_source=KJtcufKUS887p24u6rjVIQ',\n",
       "  'review_count': 1674,\n",
       "  'categories': [{'alias': 'seafood', 'title': 'Seafood'}],\n",
       "  'rating': 4.0,\n",
       "  'coordinates': {'latitude': 39.27093, 'longitude': -76.59861},\n",
       "  'transactions': ['delivery'],\n",
       "  'price': '$$',\n",
       "  'location': {'address1': '1100 E Fort Ave',\n",
       "   'address2': '',\n",
       "   'address3': '',\n",
       "   'city': 'Baltimore',\n",
       "   'zip_code': '21230',\n",
       "   'country': 'US',\n",
       "   'state': 'MD',\n",
       "   'display_address': ['1100 E Fort Ave', 'Baltimore, MD 21230']},\n",
       "  'phone': '+14105769294',\n",
       "  'display_phone': '(410) 576-9294',\n",
       "  'distance': 2918.3157253958534},\n",
       " {'id': 'Kh1XJP54vra02w7vS5rRhg',\n",
       "  'alias': 'clock-restoration-baltimore',\n",
       "  'name': 'CLOCK Restoration',\n",
       "  'image_url': 'https://s3-media2.fl.yelpcdn.com/bphoto/Cquy0WVWW6b4-3TWXBppDQ/o.jpg',\n",
       "  'is_closed': False,\n",
       "  'url': 'https://www.yelp.com/biz/clock-restoration-baltimore?adjust_creative=KJtcufKUS887p24u6rjVIQ&utm_campaign=yelp_api_v3&utm_medium=api_v3_business_search&utm_source=KJtcufKUS887p24u6rjVIQ',\n",
       "  'review_count': 30,\n",
       "  'categories': [{'alias': 'cocktailbars', 'title': 'Cocktail Bars'},\n",
       "   {'alias': 'speakeasies', 'title': 'Speakeasies'},\n",
       "   {'alias': 'newamerican', 'title': 'American (New)'}],\n",
       "  'rating': 5.0,\n",
       "  'coordinates': {'latitude': 39.28807, 'longitude': -76.61196},\n",
       "  'transactions': ['delivery', 'pickup'],\n",
       "  'location': {'address1': '31 S Calvert St',\n",
       "   'address2': 'Fl 5',\n",
       "   'address3': 'The QG',\n",
       "   'city': 'Baltimore',\n",
       "   'zip_code': '21202',\n",
       "   'country': 'US',\n",
       "   'state': 'MD',\n",
       "   'display_address': ['31 S Calvert St',\n",
       "    'Fl 5',\n",
       "    'The QG',\n",
       "    'Baltimore, MD 21202']},\n",
       "  'phone': '+14106857428',\n",
       "  'display_phone': '(410) 685-7428',\n",
       "  'distance': 975.3672545303132},\n",
       " {'id': 'ReNdW79g_1cxrgCJpFn7cA',\n",
       "  'alias': 'b-and-o-american-brasserie-baltimore',\n",
       "  'name': 'B&O American Brasserie',\n",
       "  'image_url': 'https://s3-media2.fl.yelpcdn.com/bphoto/STUupDhSp1i8JWXVrKjwtg/o.jpg',\n",
       "  'is_closed': False,\n",
       "  'url': 'https://www.yelp.com/biz/b-and-o-american-brasserie-baltimore?adjust_creative=KJtcufKUS887p24u6rjVIQ&utm_campaign=yelp_api_v3&utm_medium=api_v3_business_search&utm_source=KJtcufKUS887p24u6rjVIQ',\n",
       "  'review_count': 576,\n",
       "  'categories': [{'alias': 'newamerican', 'title': 'American (New)'},\n",
       "   {'alias': 'brasseries', 'title': 'Brasseries'},\n",
       "   {'alias': 'cocktailbars', 'title': 'Cocktail Bars'}],\n",
       "  'rating': 4.0,\n",
       "  'coordinates': {'latitude': 39.2899436853933,\n",
       "   'longitude': -76.6153600656067},\n",
       "  'transactions': ['delivery', 'pickup'],\n",
       "  'price': '$$',\n",
       "  'location': {'address1': '2 N Charles St',\n",
       "   'address2': '',\n",
       "   'address3': '',\n",
       "   'city': 'Baltimore',\n",
       "   'zip_code': '21201',\n",
       "   'country': 'US',\n",
       "   'state': 'MD',\n",
       "   'display_address': ['2 N Charles St', 'Baltimore, MD 21201']},\n",
       "  'phone': '+14436926172',\n",
       "  'display_phone': '(443) 692-6172',\n",
       "  'distance': 958.642226432693},\n",
       " {'id': 't0EA_fXewpQWfzWMrpNjIw',\n",
       "  'alias': 'peters-pour-house-baltimore',\n",
       "  'name': \"Peter's Pour House\",\n",
       "  'image_url': 'https://s3-media3.fl.yelpcdn.com/bphoto/A5kRmG6uiu3L1vStpcRK-g/o.jpg',\n",
       "  'is_closed': False,\n",
       "  'url': 'https://www.yelp.com/biz/peters-pour-house-baltimore?adjust_creative=KJtcufKUS887p24u6rjVIQ&utm_campaign=yelp_api_v3&utm_medium=api_v3_business_search&utm_source=KJtcufKUS887p24u6rjVIQ',\n",
       "  'review_count': 228,\n",
       "  'categories': [{'alias': 'tradamerican', 'title': 'American (Traditional)'},\n",
       "   {'alias': 'pubs', 'title': 'Pubs'}],\n",
       "  'rating': 4.0,\n",
       "  'coordinates': {'latitude': 39.288481314045015,\n",
       "   'longitude': -76.61303071251172},\n",
       "  'transactions': ['delivery', 'pickup'],\n",
       "  'price': '$$',\n",
       "  'location': {'address1': '111 Mercer St',\n",
       "   'address2': None,\n",
       "   'address3': '',\n",
       "   'city': 'Baltimore',\n",
       "   'zip_code': '21202',\n",
       "   'country': 'US',\n",
       "   'state': 'MD',\n",
       "   'display_address': ['111 Mercer St', 'Baltimore, MD 21202']},\n",
       "  'phone': '+14105395818',\n",
       "  'display_phone': '(410) 539-5818',\n",
       "  'distance': 972.4361262580103},\n",
       " {'id': 'NQu0GgFMcAB6ucmhSNpcSQ',\n",
       "  'alias': 'phillips-seafood-baltimore',\n",
       "  'name': 'Phillips Seafood',\n",
       "  'image_url': 'https://s3-media3.fl.yelpcdn.com/bphoto/yZFOdQ7NxVT3DbYHWdZvMw/o.jpg',\n",
       "  'is_closed': False,\n",
       "  'url': 'https://www.yelp.com/biz/phillips-seafood-baltimore?adjust_creative=KJtcufKUS887p24u6rjVIQ&utm_campaign=yelp_api_v3&utm_medium=api_v3_business_search&utm_source=KJtcufKUS887p24u6rjVIQ',\n",
       "  'review_count': 1493,\n",
       "  'categories': [{'alias': 'seafood', 'title': 'Seafood'},\n",
       "   {'alias': 'bars', 'title': 'Bars'}],\n",
       "  'rating': 3.0,\n",
       "  'coordinates': {'latitude': 39.286385925645, 'longitude': -76.6073408694461},\n",
       "  'transactions': ['delivery', 'pickup'],\n",
       "  'price': '$$',\n",
       "  'location': {'address1': '601 E Pratt St',\n",
       "   'address2': '',\n",
       "   'address3': '',\n",
       "   'city': 'Baltimore',\n",
       "   'zip_code': '21202',\n",
       "   'country': 'US',\n",
       "   'state': 'MD',\n",
       "   'display_address': ['601 E Pratt St', 'Baltimore, MD 21202']},\n",
       "  'phone': '+14106856600',\n",
       "  'display_phone': '(410) 685-6600',\n",
       "  'distance': 1089.215502481077},\n",
       " {'id': 'sUzGTfR81JKDBZlABjgtMQ',\n",
       "  'alias': 'masons-famous-lobster-rolls-baltimore-3',\n",
       "  'name': \"Mason's Famous Lobster Rolls\",\n",
       "  'image_url': 'https://s3-media2.fl.yelpcdn.com/bphoto/639CWjK8ZLXlFlj0f6Lzpg/o.jpg',\n",
       "  'is_closed': False,\n",
       "  'url': 'https://www.yelp.com/biz/masons-famous-lobster-rolls-baltimore-3?adjust_creative=KJtcufKUS887p24u6rjVIQ&utm_campaign=yelp_api_v3&utm_medium=api_v3_business_search&utm_source=KJtcufKUS887p24u6rjVIQ',\n",
       "  'review_count': 171,\n",
       "  'categories': [{'alias': 'seafood', 'title': 'Seafood'},\n",
       "   {'alias': 'salad', 'title': 'Salad'},\n",
       "   {'alias': 'soup', 'title': 'Soup'}],\n",
       "  'rating': 4.0,\n",
       "  'coordinates': {'latitude': 39.28619, 'longitude': -76.61099},\n",
       "  'transactions': ['delivery', 'pickup'],\n",
       "  'price': '$$',\n",
       "  'location': {'address1': '201 E Pratt St',\n",
       "   'address2': None,\n",
       "   'address3': '',\n",
       "   'city': 'Baltimore',\n",
       "   'zip_code': '21202',\n",
       "   'country': 'US',\n",
       "   'state': 'MD',\n",
       "   'display_address': ['201 E Pratt St', 'Baltimore, MD 21202']},\n",
       "  'phone': '+14434539664',\n",
       "  'display_phone': '(443) 453-9664',\n",
       "  'distance': 1144.0157756250915},\n",
       " {'id': 'SyLoKmaYwq9xCYeI6S6A3g',\n",
       "  'alias': 'fishnet-baltimore-2',\n",
       "  'name': 'Fishnet',\n",
       "  'image_url': 'https://s3-media2.fl.yelpcdn.com/bphoto/B8vj_UVT3CXD4urYvSMAkA/o.jpg',\n",
       "  'is_closed': False,\n",
       "  'url': 'https://www.yelp.com/biz/fishnet-baltimore-2?adjust_creative=KJtcufKUS887p24u6rjVIQ&utm_campaign=yelp_api_v3&utm_medium=api_v3_business_search&utm_source=KJtcufKUS887p24u6rjVIQ',\n",
       "  'review_count': 56,\n",
       "  'categories': [{'alias': 'seafood', 'title': 'Seafood'},\n",
       "   {'alias': 'sandwiches', 'title': 'Sandwiches'},\n",
       "   {'alias': 'fishnchips', 'title': 'Fish & Chips'}],\n",
       "  'rating': 4.0,\n",
       "  'coordinates': {'latitude': 39.29584261917888,\n",
       "   'longitude': -76.61843404731604},\n",
       "  'transactions': ['delivery', 'pickup'],\n",
       "  'price': '$$',\n",
       "  'location': {'address1': '520 Park Ave',\n",
       "   'address2': None,\n",
       "   'address3': '',\n",
       "   'city': 'Baltimore',\n",
       "   'zip_code': '21201',\n",
       "   'country': 'US',\n",
       "   'state': 'MD',\n",
       "   'display_address': ['520 Park Ave', 'Baltimore, MD 21201']},\n",
       "  'phone': '+14438696399',\n",
       "  'display_phone': '(443) 869-6399',\n",
       "  'distance': 927.3610108468021},\n",
       " {'id': 'g428REEbAhb4Ngumk5bJ6g',\n",
       "  'alias': 'lexington-market-baltimore',\n",
       "  'name': 'Lexington Market',\n",
       "  'image_url': 'https://s3-media4.fl.yelpcdn.com/bphoto/jdx5vz6toA6izWRKFef38w/o.jpg',\n",
       "  'is_closed': False,\n",
       "  'url': 'https://www.yelp.com/biz/lexington-market-baltimore?adjust_creative=KJtcufKUS887p24u6rjVIQ&utm_campaign=yelp_api_v3&utm_medium=api_v3_business_search&utm_source=KJtcufKUS887p24u6rjVIQ',\n",
       "  'review_count': 356,\n",
       "  'categories': [{'alias': 'grocery', 'title': 'Grocery'},\n",
       "   {'alias': 'seafoodmarkets', 'title': 'Seafood Markets'},\n",
       "   {'alias': 'hotdogs', 'title': 'Fast Food'}],\n",
       "  'rating': 3.5,\n",
       "  'coordinates': {'latitude': 39.29198, 'longitude': -76.622342},\n",
       "  'transactions': [],\n",
       "  'price': '$',\n",
       "  'location': {'address1': '400 W Lexington St',\n",
       "   'address2': '',\n",
       "   'address3': '',\n",
       "   'city': 'Baltimore',\n",
       "   'zip_code': '21201',\n",
       "   'country': 'US',\n",
       "   'state': 'MD',\n",
       "   'display_address': ['400 W Lexington St', 'Baltimore, MD 21201']},\n",
       "  'phone': '+14106856169',\n",
       "  'display_phone': '(410) 685-6169',\n",
       "  'distance': 1346.447302500918},\n",
       " {'id': 'sdNaP8ecfDXzoigTjO2oTg',\n",
       "  'alias': 'blue-moon-cafe-baltimore',\n",
       "  'name': 'Blue Moon Cafe',\n",
       "  'image_url': 'https://s3-media2.fl.yelpcdn.com/bphoto/ZNp-2NHkcm1k27C14naI0A/o.jpg',\n",
       "  'is_closed': False,\n",
       "  'url': 'https://www.yelp.com/biz/blue-moon-cafe-baltimore?adjust_creative=KJtcufKUS887p24u6rjVIQ&utm_campaign=yelp_api_v3&utm_medium=api_v3_business_search&utm_source=KJtcufKUS887p24u6rjVIQ',\n",
       "  'review_count': 2300,\n",
       "  'categories': [{'alias': 'breakfast_brunch', 'title': 'Breakfast & Brunch'},\n",
       "   {'alias': 'tradamerican', 'title': 'American (Traditional)'}],\n",
       "  'rating': 4.0,\n",
       "  'coordinates': {'latitude': 39.283401121424866,\n",
       "   'longitude': -76.59425446098962},\n",
       "  'transactions': ['delivery'],\n",
       "  'price': '$$',\n",
       "  'location': {'address1': '1621 Aliceanna St',\n",
       "   'address2': '',\n",
       "   'address3': '',\n",
       "   'city': 'Baltimore',\n",
       "   'zip_code': '21231',\n",
       "   'country': 'US',\n",
       "   'state': 'MD',\n",
       "   'display_address': ['1621 Aliceanna St', 'Baltimore, MD 21231']},\n",
       "  'phone': '+14105223940',\n",
       "  'display_phone': '(410) 522-3940',\n",
       "  'distance': 1830.4898120887003},\n",
       " {'id': 'O2ZrDUuqXoluq9cmrFhoyg',\n",
       "  'alias': 'mount-vernon-marketplace-baltimore-2',\n",
       "  'name': 'Mount Vernon Marketplace',\n",
       "  'image_url': 'https://s3-media4.fl.yelpcdn.com/bphoto/jlLM8HIUKnJUEE0rftugCw/o.jpg',\n",
       "  'is_closed': False,\n",
       "  'url': 'https://www.yelp.com/biz/mount-vernon-marketplace-baltimore-2?adjust_creative=KJtcufKUS887p24u6rjVIQ&utm_campaign=yelp_api_v3&utm_medium=api_v3_business_search&utm_source=KJtcufKUS887p24u6rjVIQ',\n",
       "  'review_count': 230,\n",
       "  'categories': [{'alias': 'food_court', 'title': 'Food Court'}],\n",
       "  'rating': 4.5,\n",
       "  'coordinates': {'latitude': 39.295902, 'longitude': -76.618819},\n",
       "  'transactions': [],\n",
       "  'price': '$$',\n",
       "  'location': {'address1': '520 Park Ave',\n",
       "   'address2': '',\n",
       "   'address3': '',\n",
       "   'city': 'Baltimore',\n",
       "   'zip_code': '21201',\n",
       "   'country': 'US',\n",
       "   'state': 'MD',\n",
       "   'display_address': ['520 Park Ave', 'Baltimore, MD 21201']},\n",
       "  'phone': '+14437967393',\n",
       "  'display_phone': '(443) 796-7393',\n",
       "  'distance': 960.226707869424}]"
      ]
     },
     "execution_count": 24,
     "metadata": {},
     "output_type": "execute_result"
    }
   ],
   "source": [
    "json_file['businesses']"
   ]
  },
  {
   "cell_type": "code",
   "execution_count": 25,
   "id": "cfd67cff",
   "metadata": {},
   "outputs": [
    {
     "data": {
      "text/plain": [
       "list"
      ]
     },
     "execution_count": 25,
     "metadata": {},
     "output_type": "execute_result"
    }
   ],
   "source": [
    "# what is in the businesses key?\n",
    "type(json_file['businesses'])\n"
   ]
  },
  {
   "cell_type": "code",
   "execution_count": 26,
   "id": "55191390",
   "metadata": {},
   "outputs": [
    {
     "data": {
      "text/plain": [
       "20"
      ]
     },
     "execution_count": 26,
     "metadata": {},
     "output_type": "execute_result"
    }
   ],
   "source": [
    "# how long is businesses?\n",
    "len(json_file['businesses'])"
   ]
  },
  {
   "cell_type": "markdown",
   "id": "b39778f4",
   "metadata": {},
   "source": [
    "It looks like there are 20 businesses stored in the list.\n",
    "\n"
   ]
  },
  {
   "cell_type": "code",
   "execution_count": 27,
   "id": "1ac6d691",
   "metadata": {},
   "outputs": [
    {
     "data": {
      "text/plain": [
       "{'id': 'D9A33FM394q99o4QtK5YwA',\n",
       " 'alias': 'faidleys-seafood-baltimore-3',\n",
       " 'name': 'Faidleys Seafood',\n",
       " 'image_url': 'https://s3-media3.fl.yelpcdn.com/bphoto/OTjVDCVS7pGopH6GZcfjBA/o.jpg',\n",
       " 'is_closed': False,\n",
       " 'url': 'https://www.yelp.com/biz/faidleys-seafood-baltimore-3?adjust_creative=KJtcufKUS887p24u6rjVIQ&utm_campaign=yelp_api_v3&utm_medium=api_v3_business_search&utm_source=KJtcufKUS887p24u6rjVIQ',\n",
       " 'review_count': 1184,\n",
       " 'categories': [{'alias': 'seafood', 'title': 'Seafood'},\n",
       "  {'alias': 'beerbar', 'title': 'Beer Bar'}],\n",
       " 'rating': 4.0,\n",
       " 'coordinates': {'latitude': 39.291696, 'longitude': -76.62224},\n",
       " 'transactions': ['delivery'],\n",
       " 'price': '$$',\n",
       " 'location': {'address1': '203 N Paca St',\n",
       "  'address2': '',\n",
       "  'address3': '',\n",
       "  'city': 'Baltimore',\n",
       "  'zip_code': '21201',\n",
       "  'country': 'US',\n",
       "  'state': 'MD',\n",
       "  'display_address': ['203 N Paca St', 'Baltimore, MD 21201']},\n",
       " 'phone': '+14107274898',\n",
       " 'display_phone': '(410) 727-4898',\n",
       " 'distance': 1349.560720156645}"
      ]
     },
     "execution_count": 27,
     "metadata": {},
     "output_type": "execute_result"
    }
   ],
   "source": [
    "# what does the first entry of business look like?\n",
    "json_file['businesses'][0]"
   ]
  },
  {
   "cell_type": "markdown",
   "id": "e3a5843d",
   "metadata": {},
   "source": [
    "It's a dictionary. What are the keys?\n",
    "\n"
   ]
  },
  {
   "cell_type": "code",
   "execution_count": 28,
   "id": "cbe65cde",
   "metadata": {},
   "outputs": [
    {
     "data": {
      "text/plain": [
       "dict_keys(['id', 'alias', 'name', 'image_url', 'is_closed', 'url', 'review_count', 'categories', 'rating', 'coordinates', 'transactions', 'price', 'location', 'phone', 'display_phone', 'distance'])"
      ]
     },
     "execution_count": 28,
     "metadata": {},
     "output_type": "execute_result"
    }
   ],
   "source": [
    "## what are the keys of the first entry in businesses?\n",
    "json_file['businesses'][0].keys()"
   ]
  },
  {
   "cell_type": "code",
   "execution_count": 29,
   "id": "3b3a8052",
   "metadata": {},
   "outputs": [
    {
     "data": {
      "text/plain": [
       "dict_keys(['id', 'alias', 'name', 'image_url', 'is_closed', 'url', 'review_count', 'categories', 'rating', 'coordinates', 'transactions', 'price', 'location', 'phone', 'display_phone', 'distance'])"
      ]
     },
     "execution_count": 29,
     "metadata": {},
     "output_type": "execute_result"
    }
   ],
   "source": [
    "## what are the keys of the NEXT entry in businesses? Do they math the first?\n",
    "json_file['businesses'][1].keys()"
   ]
  },
  {
   "cell_type": "markdown",
   "id": "5e70a908",
   "metadata": {},
   "source": [
    "# Identifying \"records\"\n",
    "* There is a name for the particular type of json format in which we have a list that contains dictionaries with matching keys for each item.\n",
    "\n",
    "* We call these \"records\".\n",
    "\n",
    "It looks like the \"businesses\" key in our json data is a list of records.\n",
    "\n",
    "* Records can be turned into DataFrames for easier inspection!"
   ]
  },
  {
   "cell_type": "code",
   "execution_count": 31,
   "id": "720605f6",
   "metadata": {},
   "outputs": [
    {
     "data": {
      "text/html": [
       "<div>\n",
       "<style scoped>\n",
       "    .dataframe tbody tr th:only-of-type {\n",
       "        vertical-align: middle;\n",
       "    }\n",
       "\n",
       "    .dataframe tbody tr th {\n",
       "        vertical-align: top;\n",
       "    }\n",
       "\n",
       "    .dataframe thead th {\n",
       "        text-align: right;\n",
       "    }\n",
       "</style>\n",
       "<table border=\"1\" class=\"dataframe\">\n",
       "  <thead>\n",
       "    <tr style=\"text-align: right;\">\n",
       "      <th></th>\n",
       "      <th>id</th>\n",
       "      <th>alias</th>\n",
       "      <th>name</th>\n",
       "      <th>image_url</th>\n",
       "      <th>is_closed</th>\n",
       "      <th>url</th>\n",
       "      <th>review_count</th>\n",
       "      <th>categories</th>\n",
       "      <th>rating</th>\n",
       "      <th>coordinates</th>\n",
       "      <th>transactions</th>\n",
       "      <th>price</th>\n",
       "      <th>location</th>\n",
       "      <th>phone</th>\n",
       "      <th>display_phone</th>\n",
       "      <th>distance</th>\n",
       "    </tr>\n",
       "  </thead>\n",
       "  <tbody>\n",
       "    <tr>\n",
       "      <th>0</th>\n",
       "      <td>D9A33FM394q99o4QtK5YwA</td>\n",
       "      <td>faidleys-seafood-baltimore-3</td>\n",
       "      <td>Faidleys Seafood</td>\n",
       "      <td>https://s3-media3.fl.yelpcdn.com/bphoto/OTjVDC...</td>\n",
       "      <td>False</td>\n",
       "      <td>https://www.yelp.com/biz/faidleys-seafood-balt...</td>\n",
       "      <td>1184</td>\n",
       "      <td>[{'alias': 'seafood', 'title': 'Seafood'}, {'a...</td>\n",
       "      <td>4.0</td>\n",
       "      <td>{'latitude': 39.291696, 'longitude': -76.62224}</td>\n",
       "      <td>[delivery]</td>\n",
       "      <td>$$</td>\n",
       "      <td>{'address1': '203 N Paca St', 'address2': '', ...</td>\n",
       "      <td>+14107274898</td>\n",
       "      <td>(410) 727-4898</td>\n",
       "      <td>1349.560720</td>\n",
       "    </tr>\n",
       "    <tr>\n",
       "      <th>1</th>\n",
       "      <td>u65W69AhbjUlvJJBkEhGNQ</td>\n",
       "      <td>miss-shirleys-cafe-baltimore-9</td>\n",
       "      <td>Miss Shirley's Cafe</td>\n",
       "      <td>https://s3-media4.fl.yelpcdn.com/bphoto/9FsOyV...</td>\n",
       "      <td>False</td>\n",
       "      <td>https://www.yelp.com/biz/miss-shirleys-cafe-ba...</td>\n",
       "      <td>2919</td>\n",
       "      <td>[{'alias': 'breakfast_brunch', 'title': 'Break...</td>\n",
       "      <td>4.0</td>\n",
       "      <td>{'latitude': 39.2870995, 'longitude': -76.6053...</td>\n",
       "      <td>[delivery, pickup]</td>\n",
       "      <td>$$</td>\n",
       "      <td>{'address1': '750 E Pratt St', 'address2': '',...</td>\n",
       "      <td>+14105285373</td>\n",
       "      <td>(410) 528-5373</td>\n",
       "      <td>1028.736468</td>\n",
       "    </tr>\n",
       "    <tr>\n",
       "      <th>2</th>\n",
       "      <td>ieS_5zqxDHcWMCm8BKUYbg</td>\n",
       "      <td>thames-street-oyster-house-baltimore</td>\n",
       "      <td>Thames Street Oyster House</td>\n",
       "      <td>https://s3-media1.fl.yelpcdn.com/bphoto/9hGjo5...</td>\n",
       "      <td>False</td>\n",
       "      <td>https://www.yelp.com/biz/thames-street-oyster-...</td>\n",
       "      <td>2729</td>\n",
       "      <td>[{'alias': 'seafood', 'title': 'Seafood'}, {'a...</td>\n",
       "      <td>4.5</td>\n",
       "      <td>{'latitude': 39.28214, 'longitude': -76.59162}</td>\n",
       "      <td>[delivery]</td>\n",
       "      <td>$$$</td>\n",
       "      <td>{'address1': '1728 Thames St', 'address2': '',...</td>\n",
       "      <td>+14434497726</td>\n",
       "      <td>(443) 449-7726</td>\n",
       "      <td>2090.712792</td>\n",
       "    </tr>\n",
       "    <tr>\n",
       "      <th>3</th>\n",
       "      <td>6am8TZAFnvND52MOz-Yctg</td>\n",
       "      <td>mamas-on-the-half-shell-baltimore</td>\n",
       "      <td>Mama's On The Half Shell</td>\n",
       "      <td>https://s3-media2.fl.yelpcdn.com/bphoto/HWY8OF...</td>\n",
       "      <td>False</td>\n",
       "      <td>https://www.yelp.com/biz/mamas-on-the-half-she...</td>\n",
       "      <td>1279</td>\n",
       "      <td>[{'alias': 'bars', 'title': 'Bars'}, {'alias':...</td>\n",
       "      <td>4.0</td>\n",
       "      <td>{'latitude': 39.27986, 'longitude': -76.5752399}</td>\n",
       "      <td>[delivery, pickup]</td>\n",
       "      <td>$$</td>\n",
       "      <td>{'address1': '2901 Odonnell St', 'address2': '...</td>\n",
       "      <td>+14102763160</td>\n",
       "      <td>(410) 276-3160</td>\n",
       "      <td>3328.825798</td>\n",
       "    </tr>\n",
       "    <tr>\n",
       "      <th>4</th>\n",
       "      <td>ISn7WyGQaFpsVSRSh0NSqg</td>\n",
       "      <td>sal-and-sons-baltimore</td>\n",
       "      <td>Sal and Sons</td>\n",
       "      <td>https://s3-media3.fl.yelpcdn.com/bphoto/LmVL4j...</td>\n",
       "      <td>False</td>\n",
       "      <td>https://www.yelp.com/biz/sal-and-sons-baltimor...</td>\n",
       "      <td>153</td>\n",
       "      <td>[{'alias': 'seafood', 'title': 'Seafood'}, {'a...</td>\n",
       "      <td>4.5</td>\n",
       "      <td>{'latitude': 39.284, 'longitude': -76.59337}</td>\n",
       "      <td>[delivery]</td>\n",
       "      <td>$</td>\n",
       "      <td>{'address1': '1640 Aliceanna St', 'address2': ...</td>\n",
       "      <td>+14106751466</td>\n",
       "      <td>(410) 675-1466</td>\n",
       "      <td>1817.406978</td>\n",
       "    </tr>\n",
       "  </tbody>\n",
       "</table>\n",
       "</div>"
      ],
      "text/plain": [
       "                       id                                 alias  \\\n",
       "0  D9A33FM394q99o4QtK5YwA          faidleys-seafood-baltimore-3   \n",
       "1  u65W69AhbjUlvJJBkEhGNQ        miss-shirleys-cafe-baltimore-9   \n",
       "2  ieS_5zqxDHcWMCm8BKUYbg  thames-street-oyster-house-baltimore   \n",
       "3  6am8TZAFnvND52MOz-Yctg     mamas-on-the-half-shell-baltimore   \n",
       "4  ISn7WyGQaFpsVSRSh0NSqg                sal-and-sons-baltimore   \n",
       "\n",
       "                         name  \\\n",
       "0            Faidleys Seafood   \n",
       "1         Miss Shirley's Cafe   \n",
       "2  Thames Street Oyster House   \n",
       "3    Mama's On The Half Shell   \n",
       "4                Sal and Sons   \n",
       "\n",
       "                                           image_url  is_closed  \\\n",
       "0  https://s3-media3.fl.yelpcdn.com/bphoto/OTjVDC...      False   \n",
       "1  https://s3-media4.fl.yelpcdn.com/bphoto/9FsOyV...      False   \n",
       "2  https://s3-media1.fl.yelpcdn.com/bphoto/9hGjo5...      False   \n",
       "3  https://s3-media2.fl.yelpcdn.com/bphoto/HWY8OF...      False   \n",
       "4  https://s3-media3.fl.yelpcdn.com/bphoto/LmVL4j...      False   \n",
       "\n",
       "                                                 url  review_count  \\\n",
       "0  https://www.yelp.com/biz/faidleys-seafood-balt...          1184   \n",
       "1  https://www.yelp.com/biz/miss-shirleys-cafe-ba...          2919   \n",
       "2  https://www.yelp.com/biz/thames-street-oyster-...          2729   \n",
       "3  https://www.yelp.com/biz/mamas-on-the-half-she...          1279   \n",
       "4  https://www.yelp.com/biz/sal-and-sons-baltimor...           153   \n",
       "\n",
       "                                          categories  rating  \\\n",
       "0  [{'alias': 'seafood', 'title': 'Seafood'}, {'a...     4.0   \n",
       "1  [{'alias': 'breakfast_brunch', 'title': 'Break...     4.0   \n",
       "2  [{'alias': 'seafood', 'title': 'Seafood'}, {'a...     4.5   \n",
       "3  [{'alias': 'bars', 'title': 'Bars'}, {'alias':...     4.0   \n",
       "4  [{'alias': 'seafood', 'title': 'Seafood'}, {'a...     4.5   \n",
       "\n",
       "                                         coordinates        transactions  \\\n",
       "0    {'latitude': 39.291696, 'longitude': -76.62224}          [delivery]   \n",
       "1  {'latitude': 39.2870995, 'longitude': -76.6053...  [delivery, pickup]   \n",
       "2     {'latitude': 39.28214, 'longitude': -76.59162}          [delivery]   \n",
       "3   {'latitude': 39.27986, 'longitude': -76.5752399}  [delivery, pickup]   \n",
       "4       {'latitude': 39.284, 'longitude': -76.59337}          [delivery]   \n",
       "\n",
       "  price                                           location         phone  \\\n",
       "0    $$  {'address1': '203 N Paca St', 'address2': '', ...  +14107274898   \n",
       "1    $$  {'address1': '750 E Pratt St', 'address2': '',...  +14105285373   \n",
       "2   $$$  {'address1': '1728 Thames St', 'address2': '',...  +14434497726   \n",
       "3    $$  {'address1': '2901 Odonnell St', 'address2': '...  +14102763160   \n",
       "4     $  {'address1': '1640 Aliceanna St', 'address2': ...  +14106751466   \n",
       "\n",
       "    display_phone     distance  \n",
       "0  (410) 727-4898  1349.560720  \n",
       "1  (410) 528-5373  1028.736468  \n",
       "2  (443) 449-7726  2090.712792  \n",
       "3  (410) 276-3160  3328.825798  \n",
       "4  (410) 675-1466  1817.406978  "
      ]
     },
     "execution_count": 31,
     "metadata": {},
     "output_type": "execute_result"
    }
   ],
   "source": [
    "import pandas as pd\n",
    "df_businesses = pd.DataFrame(json_file['businesses'])\n",
    "df_businesses.head()"
   ]
  },
  {
   "cell_type": "markdown",
   "id": "e0b3729a",
   "metadata": {},
   "source": [
    "* Notice how cleanly the list of dictionaries was converted into a DataFrame!\n",
    "\n",
    "    * Even if we didn't save this dataframe as a variable, temporarily converting lists in JSON files to DataFrames can be very helpful for sifting through the file contents!\n",
    "    \n",
    "* Now, the DataFrame definitely is not perfectly formatted. Take note of the \"categories\", \"coordinates\", and \"location\" columns."
   ]
  },
  {
   "cell_type": "code",
   "execution_count": 32,
   "id": "0359f507",
   "metadata": {},
   "outputs": [
    {
     "data": {
      "text/html": [
       "<div>\n",
       "<style scoped>\n",
       "    .dataframe tbody tr th:only-of-type {\n",
       "        vertical-align: middle;\n",
       "    }\n",
       "\n",
       "    .dataframe tbody tr th {\n",
       "        vertical-align: top;\n",
       "    }\n",
       "\n",
       "    .dataframe thead th {\n",
       "        text-align: right;\n",
       "    }\n",
       "</style>\n",
       "<table border=\"1\" class=\"dataframe\">\n",
       "  <thead>\n",
       "    <tr style=\"text-align: right;\">\n",
       "      <th></th>\n",
       "      <th>categories</th>\n",
       "      <th>coordinates</th>\n",
       "      <th>location</th>\n",
       "    </tr>\n",
       "  </thead>\n",
       "  <tbody>\n",
       "    <tr>\n",
       "      <th>0</th>\n",
       "      <td>[{'alias': 'seafood', 'title': 'Seafood'}, {'a...</td>\n",
       "      <td>{'latitude': 39.291696, 'longitude': -76.62224}</td>\n",
       "      <td>{'address1': '203 N Paca St', 'address2': '', ...</td>\n",
       "    </tr>\n",
       "    <tr>\n",
       "      <th>1</th>\n",
       "      <td>[{'alias': 'breakfast_brunch', 'title': 'Break...</td>\n",
       "      <td>{'latitude': 39.2870995, 'longitude': -76.6053...</td>\n",
       "      <td>{'address1': '750 E Pratt St', 'address2': '',...</td>\n",
       "    </tr>\n",
       "    <tr>\n",
       "      <th>2</th>\n",
       "      <td>[{'alias': 'seafood', 'title': 'Seafood'}, {'a...</td>\n",
       "      <td>{'latitude': 39.28214, 'longitude': -76.59162}</td>\n",
       "      <td>{'address1': '1728 Thames St', 'address2': '',...</td>\n",
       "    </tr>\n",
       "  </tbody>\n",
       "</table>\n",
       "</div>"
      ],
      "text/plain": [
       "                                          categories  \\\n",
       "0  [{'alias': 'seafood', 'title': 'Seafood'}, {'a...   \n",
       "1  [{'alias': 'breakfast_brunch', 'title': 'Break...   \n",
       "2  [{'alias': 'seafood', 'title': 'Seafood'}, {'a...   \n",
       "\n",
       "                                         coordinates  \\\n",
       "0    {'latitude': 39.291696, 'longitude': -76.62224}   \n",
       "1  {'latitude': 39.2870995, 'longitude': -76.6053...   \n",
       "2     {'latitude': 39.28214, 'longitude': -76.59162}   \n",
       "\n",
       "                                            location  \n",
       "0  {'address1': '203 N Paca St', 'address2': '', ...  \n",
       "1  {'address1': '750 E Pratt St', 'address2': '',...  \n",
       "2  {'address1': '1728 Thames St', 'address2': '',...  "
      ]
     },
     "execution_count": 32,
     "metadata": {},
     "output_type": "execute_result"
    }
   ],
   "source": [
    "df_businesses[['categories','coordinates','location']].head(3)\n"
   ]
  },
  {
   "cell_type": "markdown",
   "id": "408c3db7",
   "metadata": {},
   "source": [
    "* These cells actually contain more than 1 piece of information. They actually contain dictionaries.\n",
    "\n",
    "* While making our records into a DataFrame helped us organize and digest the business data, it is not a perfect solution and we may need to do additional cleaning on the columns that are filled with dictionaries or lists.\n",
    "\n",
    "* We will discuss how to deal with scenarios like this in an upcoming lesson on Advanced Transformations with Pandas."
   ]
  },
  {
   "cell_type": "markdown",
   "id": "dbfb52d8",
   "metadata": {},
   "source": [
    "# Reviewing the JSON Schema\n",
    "* We have a dictionary of Yelp query results.\n",
    "    * The top level contains:\n",
    "    * The Total # of businesses that matched the query.\n",
    "    * The region that was searched.\n",
    "    * A list of records for the businesses that matched the criteria."
   ]
  },
  {
   "cell_type": "code",
   "execution_count": null,
   "id": "b33efac0",
   "metadata": {},
   "outputs": [],
   "source": []
  },
  {
   "cell_type": "code",
   "execution_count": null,
   "id": "9785253f",
   "metadata": {},
   "outputs": [],
   "source": []
  },
  {
   "cell_type": "code",
   "execution_count": null,
   "id": "78466628",
   "metadata": {},
   "outputs": [],
   "source": []
  },
  {
   "cell_type": "code",
   "execution_count": null,
   "id": "3585ebf7",
   "metadata": {},
   "outputs": [],
   "source": []
  },
  {
   "cell_type": "code",
   "execution_count": null,
   "id": "0aa45bfb",
   "metadata": {},
   "outputs": [],
   "source": []
  }
 ],
 "metadata": {
  "kernelspec": {
   "display_name": "Python (dojo-env)",
   "language": "python",
   "name": "dojo-env"
  },
  "language_info": {
   "codemirror_mode": {
    "name": "ipython",
    "version": 3
   },
   "file_extension": ".py",
   "mimetype": "text/x-python",
   "name": "python",
   "nbconvert_exporter": "python",
   "pygments_lexer": "ipython3",
   "version": "3.9.15"
  },
  "toc": {
   "base_numbering": 1,
   "nav_menu": {},
   "number_sections": false,
   "sideBar": true,
   "skip_h1_title": false,
   "title_cell": "Table of Contents",
   "title_sidebar": "Contents",
   "toc_cell": false,
   "toc_position": {},
   "toc_section_display": true,
   "toc_window_display": true
  }
 },
 "nbformat": 4,
 "nbformat_minor": 5
}
